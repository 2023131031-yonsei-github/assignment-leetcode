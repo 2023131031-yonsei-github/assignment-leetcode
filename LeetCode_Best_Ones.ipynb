{
  "nbformat": 4,
  "nbformat_minor": 0,
  "metadata": {
    "colab": {
      "provenance": []
    },
    "kernelspec": {
      "name": "python3",
      "display_name": "Python 3"
    },
    "language_info": {
      "name": "python"
    }
  },
  "cells": [
    {
      "cell_type": "markdown",
      "source": [
        "# LeetCode 205\n"
      ],
      "metadata": {
        "id": "dO4YtvdqMZJX"
      }
    },
    {
      "cell_type": "code",
      "execution_count": null,
      "metadata": {
        "id": "O19XbLGQMVYs"
      },
      "outputs": [],
      "source": [
        "class Solution(object):\n",
        "    def isIsomorphic(self, s, t):\n",
        "        \"\"\"\n",
        "        :type s: str\n",
        "        :type t: str\n",
        "        :rtype: bool\n",
        "        \"\"\"\n",
        "        adic = {}\n",
        "        bdic = {}\n",
        "\n",
        "        acharnum = 0\n",
        "        bcharnum = 0\n",
        "        if not len(s) == len(t):\n",
        "            return False\n",
        "        for i in range(len(s)):\n",
        "            if not s[i] in adic.keys():\n",
        "                adic[s[i]] = acharnum\n",
        "                acharnum += 1\n",
        "\n",
        "            if not t[i] in bdic.keys():\n",
        "                bdic[t[i]] = bcharnum\n",
        "                bcharnum += 1\n",
        "\n",
        "        if not acharnum == bcharnum:\n",
        "            return False\n",
        "\n",
        "        res = True\n",
        "        for i in range(len(s)):\n",
        "            if not adic[s[i]] == bdic[t[i]]:\n",
        "                res = False\n",
        "        return res"
      ]
    },
    {
      "cell_type": "markdown",
      "source": [
        "# LeetCode 231"
      ],
      "metadata": {
        "id": "zjyGPhj0MqqH"
      }
    },
    {
      "cell_type": "code",
      "source": [
        "class Solution:\n",
        "    def isPowerOfTwo(self, n: int) -> bool:\n",
        "        if n < 1:\n",
        "            return False\n",
        "        if n == 1:\n",
        "            return True\n",
        "\n",
        "        while n > 1:\n",
        "            if (n%2) & 1:\n",
        "                return False\n",
        "            n >>= 1\n",
        "\n",
        "        return True"
      ],
      "metadata": {
        "id": "aNpTDAttMwXn"
      },
      "execution_count": null,
      "outputs": []
    },
    {
      "cell_type": "markdown",
      "source": [
        "# LeetCode 414"
      ],
      "metadata": {
        "id": "q5DBl3Z-MyW4"
      }
    },
    {
      "cell_type": "code",
      "source": [
        "class Solution:\n",
        "    def thirdMax(self, nums: List[int]) -> int:\n",
        "        n = set()\n",
        "\n",
        "        for num in nums:\n",
        "            n.add(num)\n",
        "\n",
        "        if len(n) < 3:\n",
        "            return max(n)\n",
        "        n.remove(max(n))\n",
        "        n.remove(max(n))\n",
        "        return max(n)"
      ],
      "metadata": {
        "id": "GlTsqdjJMyW4"
      },
      "execution_count": null,
      "outputs": []
    },
    {
      "cell_type": "markdown",
      "source": [
        "# LeetCode 671"
      ],
      "metadata": {
        "id": "EtHn9WBZMy_4"
      }
    },
    {
      "cell_type": "code",
      "source": [
        "class Solution:\n",
        "    def findSecondMinimumValue(self, root: Optional[TreeNode]) -> int:\n",
        "        if not root or not root.left:\n",
        "            return -1\n",
        "\n",
        "        def minimum_over(node, over):\n",
        "            if not node:\n",
        "                return -1\n",
        "            m = node.val if node.val > over else -1\n",
        "            lm = minimum_over(node.left, over)\n",
        "            rm = minimum_over(node.right, over)\n",
        "            return min((m if m != -1 else float('inf')), (lm if lm != -1 else float('inf')), (rm if rm != -1 else float('inf')))\n",
        "\n",
        "        minimum = minimum_over(root, -1)\n",
        "        res = minimum_over(root, minimum)\n",
        "        return res if not (res == float('inf') or res == -1) else -1"
      ],
      "metadata": {
        "id": "RSkqvenwMy_4"
      },
      "execution_count": null,
      "outputs": []
    },
    {
      "cell_type": "markdown",
      "source": [
        "# LeetCode 744"
      ],
      "metadata": {
        "id": "CHSrTX6fMzUv"
      }
    },
    {
      "cell_type": "code",
      "source": [
        "class Solution:\n",
        "    def nextGreatestLetter(self, letters: List[str], target: str) -> str:\n",
        "        res = letters[0]\n",
        "\n",
        "        left, right = 0, len(letters)\n",
        "\n",
        "        while left < right:\n",
        "            mid = (left+right) // 2\n",
        "            if letters[mid] <= target:\n",
        "                left = mid + 1\n",
        "            else:\n",
        "                right = mid\n",
        "        if left != len(letters):\n",
        "            res = letters[left]\n",
        "\n",
        "        return res"
      ],
      "metadata": {
        "id": "JSZOLZyDMzUv"
      },
      "execution_count": null,
      "outputs": []
    },
    {
      "cell_type": "markdown",
      "source": [
        "# LeetCode 590"
      ],
      "metadata": {
        "id": "cWnRZHyRNJy_"
      }
    },
    {
      "cell_type": "code",
      "source": [
        "class Solution:\n",
        "    def postorder(self, root: 'Node') -> List[int]:\n",
        "        if not root:\n",
        "            return []\n",
        "\n",
        "        result = []\n",
        "        stack = [root]\n",
        "\n",
        "        while stack:\n",
        "            node = stack.pop()\n",
        "            result.append(node.val)\n",
        "            stack.extend(node.children)\n",
        "\n",
        "        return reversed(result)"
      ],
      "metadata": {
        "id": "7pDA-ZwrNLlH"
      },
      "execution_count": null,
      "outputs": []
    },
    {
      "cell_type": "markdown",
      "source": [
        "# LeetCode 704"
      ],
      "metadata": {
        "id": "KSOZDFxgNSKH"
      }
    },
    {
      "cell_type": "code",
      "source": [
        "class Solution:\n",
        "    def search(self, nums: List[int], target: int) -> int:\n",
        "        left, right = 0, len(nums) - 1\n",
        "\n",
        "        while left < right:\n",
        "            mid = (left + right) // 2\n",
        "            if nums[mid] == target:\n",
        "                return mid\n",
        "            elif nums[mid] < target:\n",
        "                left = mid + 1\n",
        "            else:\n",
        "                right = mid - 1\n",
        "        if nums[left] != target:\n",
        "            return -1\n",
        "        else:\n",
        "            return left"
      ],
      "metadata": {
        "id": "02opumh6NUKP"
      },
      "execution_count": null,
      "outputs": []
    }
  ]
}